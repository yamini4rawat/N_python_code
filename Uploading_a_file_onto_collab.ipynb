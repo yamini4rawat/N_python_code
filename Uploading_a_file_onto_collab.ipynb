{
  "nbformat": 4,
  "nbformat_minor": 0,
  "metadata": {
    "colab": {
      "name": "Uploading a file onto collab.ipynb",
      "provenance": [],
      "collapsed_sections": [],
      "include_colab_link": true
    },
    "kernelspec": {
      "name": "python3",
      "display_name": "Python 3"
    }
  },
  "cells": [
    {
      "cell_type": "markdown",
      "metadata": {
        "id": "view-in-github",
        "colab_type": "text"
      },
      "source": [
        "<a href=\"https://colab.research.google.com/github/yamini4rawat/N_python_code/blob/master/Uploading_a_file_onto_collab.ipynb\" target=\"_parent\"><img src=\"https://colab.research.google.com/assets/colab-badge.svg\" alt=\"Open In Colab\"/></a>"
      ]
    },
    {
      "cell_type": "markdown",
      "metadata": {
        "id": "VJeD-Cv42FcP",
        "colab_type": "text"
      },
      "source": [
        "Collab from google gives us the platform to run and work on our deep neural networks. For running AI and deep neural nets algoritm we need to set up our machine with n number of pakages like the theano, tensor flow,Scipy and n number of platforms . Setting our local system up could always be a problem therfore we can use google collaboratory for running deep neural nets and save time. \n",
        "\n",
        "\n",
        "Mount the content of your google drive and give authentication."
      ]
    },
    {
      "cell_type": "code",
      "metadata": {
        "id": "qbs3bcap8plO",
        "colab_type": "code",
        "outputId": "298e3c45-565f-4f8f-caac-2d1a91dec371",
        "colab": {
          "base_uri": "https://localhost:8080/",
          "height": 122
        }
      },
      "source": [
        "from google.colab import drive\n",
        "drive.mount('/content/drive')"
      ],
      "execution_count": 0,
      "outputs": [
        {
          "output_type": "stream",
          "text": [
            "Go to this URL in a browser: https://accounts.google.com/o/oauth2/auth?client_id=947318989803-6bn6qk8qdgf4n4g3pfee6491hc0brc4i.apps.googleusercontent.com&redirect_uri=urn%3Aietf%3Awg%3Aoauth%3A2.0%3Aoob&scope=email%20https%3A%2F%2Fwww.googleapis.com%2Fauth%2Fdocs.test%20https%3A%2F%2Fwww.googleapis.com%2Fauth%2Fdrive%20https%3A%2F%2Fwww.googleapis.com%2Fauth%2Fdrive.photos.readonly%20https%3A%2F%2Fwww.googleapis.com%2Fauth%2Fpeopleapi.readonly&response_type=code\n",
            "\n",
            "Enter your authorization code:\n",
            "··········\n",
            "Mounted at /content/drive\n"
          ],
          "name": "stdout"
        }
      ]
    },
    {
      "cell_type": "code",
      "metadata": {
        "id": "QmxugQZe8tAR",
        "colab_type": "code",
        "colab": {}
      },
      "source": [
        "import os   #import os package and navigate to MY Drive. "
      ],
      "execution_count": 0,
      "outputs": []
    },
    {
      "cell_type": "code",
      "metadata": {
        "id": "IHJ_nGyh9J81",
        "colab_type": "code",
        "colab": {}
      },
      "source": [
        "os.chdir(\"/content/drive/\")"
      ],
      "execution_count": 0,
      "outputs": []
    },
    {
      "cell_type": "code",
      "metadata": {
        "id": "gz6kWqbD9Ngh",
        "colab_type": "code",
        "outputId": "9ca778e9-c4a4-4ba9-9897-914ceb0e1b77",
        "colab": {
          "base_uri": "https://localhost:8080/",
          "height": 34
        }
      },
      "source": [
        "!ls"
      ],
      "execution_count": 0,
      "outputs": [
        {
          "output_type": "stream",
          "text": [
            "'My Drive'\n"
          ],
          "name": "stdout"
        }
      ]
    },
    {
      "cell_type": "code",
      "metadata": {
        "id": "GQSt3Dmy9PhY",
        "colab_type": "code",
        "colab": {}
      },
      "source": [
        "os.chdir(\"/content/drive/My Drive\")"
      ],
      "execution_count": 0,
      "outputs": []
    },
    {
      "cell_type": "code",
      "metadata": {
        "id": "9f8-LWB29X7k",
        "colab_type": "code",
        "outputId": "25efc13b-db8a-4572-a965-8421426923a4",
        "colab": {
          "base_uri": "https://localhost:8080/",
          "height": 578
        }
      },
      "source": [
        "!ls"
      ],
      "execution_count": 0,
      "outputs": [
        {
          "output_type": "stream",
          "text": [
            " 1527251565386Resume_yamini.docx   IMG_20190429_095636645_HDR.jpg\n",
            "'acc,`,`,`--;;;;.gdoc'\t\t   IMG_20190429_095705809_HDR.jpg\n",
            "\"akshay's software\"\t\t   IMG_20190429_095717459.jpg\n",
            " cifar-10-python.tar.gz\t\t   IMG_20190429_095723862.jpg\n",
            "'Colab Notebooks'\t\t   IMG_20190429_095730189.jpg\n",
            "'Document from Yamini.gdoc'\t   IMG_20190429_095735098.jpg\n",
            "'Document from Yamini.pdf'\t   IMG_20190429_095741573_HDR.jpg\n",
            " EVA\t\t\t\t   IMG_20190429_095750049_HDR.jpg\n",
            " house_rent.jpg\t\t\t   IMG_20190429_095808902.jpg\n",
            " IMG_20190301_091613873.jpg\t   IMG_20190429_095816857.jpg\n",
            " IMG_20190301_181444139.jpg\t   IMG_20190429_095827928.jpg\n",
            " IMG_20190301_181517744.jpg\t   IMG_20190429_095832765.jpg\n",
            " IMG_20190301_181529215.jpg\t   IMG_20190429_095911027_HDR.jpg\n",
            " IMG_20190301_181551188.jpg\t   IMG_20190429_095918115_HDR.jpg\n",
            " IMG_20190301_181553008.jpg\t   IMG_20190429_095929188_HDR.jpg\n",
            " IMG_20190301_181649283.jpg\t   IMG_20190429_095938378_HDR.jpg\n",
            " IMG_20190301_181657963.jpg\t   IMG_20190429_100000551.jpg\n",
            " IMG_20190301_181804089.jpg\t   IMG_20190429_100112247.jpg\n",
            " IMG_20190301_181931969.jpg\t   IMG_20190429_100146921_HDR.jpg\n",
            " IMG_20190301_182257647.jpg\t   IMG_20190429_100156055_HDR.jpg\n",
            " IMG_20190301_182330335.jpg\t   IMG_20190429_100218779_HDR.jpg\n",
            " IMG_20190301_182332073.jpg\t   IMG_20190429_100241535_HDR.jpg\n",
            " IMG_20190301_182342501.jpg\t   IMG_20190429_100246933_HDR.jpg\n",
            " IMG_20190301_182428369.jpg\t   IMG_20190429_100251010.jpg\n",
            " IMG_20190301_182548156.jpg\t   IMG_20190429_100327580_HDR.jpg\n",
            " IMG_20190301_182625702.jpg\t   IMG_20190429_100406811_HDR.jpg\n",
            " IMG_20190301_182738745.jpg\t   LSTM_Example.csv\n",
            " IMG_20190301_183055944.jpg\t   modified.docx\n",
            " IMG_20190301_183057108.jpg\t   modified.gdoc\n",
            " IMG_20190429_095537800_HDR.jpg    new1\n",
            " IMG_20190429_095544839_HDR.jpg    resnet50_tinyimagenet.csv\n",
            " IMG_20190429_095616364_HDR.jpg   'YAmini RAwat  - Copy.docx'\n",
            " IMG_20190429_095626358.jpg\t  'Yamini resume-.pdf'\n"
          ],
          "name": "stdout"
        }
      ]
    },
    {
      "cell_type": "code",
      "metadata": {
        "id": "whtcQ4Iv9ZJl",
        "colab_type": "code",
        "colab": {}
      },
      "source": [
        "import pandas as pd"
      ],
      "execution_count": 0,
      "outputs": []
    },
    {
      "cell_type": "code",
      "metadata": {
        "id": "08LJRmVe9fNm",
        "colab_type": "code",
        "colab": {}
      },
      "source": [
        "data = pd.read_csv(\"LSTM_Example.csv\") # LSTM_Example is already uploaded on the goodle drive . Access it by navigating to My Dive."
      ],
      "execution_count": 0,
      "outputs": []
    },
    {
      "cell_type": "code",
      "metadata": {
        "id": "F2_DLDdw9k1o",
        "colab_type": "code",
        "outputId": "78f2ad68-1a74-49ee-d37d-0f5477c16365",
        "colab": {
          "base_uri": "https://localhost:8080/",
          "height": 204
        }
      },
      "source": [
        "data.head()"
      ],
      "execution_count": 0,
      "outputs": [
        {
          "output_type": "execute_result",
          "data": {
            "text/html": [
              "<div>\n",
              "<style scoped>\n",
              "    .dataframe tbody tr th:only-of-type {\n",
              "        vertical-align: middle;\n",
              "    }\n",
              "\n",
              "    .dataframe tbody tr th {\n",
              "        vertical-align: top;\n",
              "    }\n",
              "\n",
              "    .dataframe thead th {\n",
              "        text-align: right;\n",
              "    }\n",
              "</style>\n",
              "<table border=\"1\" class=\"dataframe\">\n",
              "  <thead>\n",
              "    <tr style=\"text-align: right;\">\n",
              "      <th></th>\n",
              "      <th>Month</th>\n",
              "      <th>Sales</th>\n",
              "    </tr>\n",
              "  </thead>\n",
              "  <tbody>\n",
              "    <tr>\n",
              "      <th>0</th>\n",
              "      <td>1-Jan</td>\n",
              "      <td>266.0</td>\n",
              "    </tr>\n",
              "    <tr>\n",
              "      <th>1</th>\n",
              "      <td>2-Jan</td>\n",
              "      <td>145.9</td>\n",
              "    </tr>\n",
              "    <tr>\n",
              "      <th>2</th>\n",
              "      <td>3-Jan</td>\n",
              "      <td>183.1</td>\n",
              "    </tr>\n",
              "    <tr>\n",
              "      <th>3</th>\n",
              "      <td>4-Jan</td>\n",
              "      <td>119.3</td>\n",
              "    </tr>\n",
              "    <tr>\n",
              "      <th>4</th>\n",
              "      <td>5-Jan</td>\n",
              "      <td>180.3</td>\n",
              "    </tr>\n",
              "  </tbody>\n",
              "</table>\n",
              "</div>"
            ],
            "text/plain": [
              "   Month  Sales\n",
              "0  1-Jan  266.0\n",
              "1  2-Jan  145.9\n",
              "2  3-Jan  183.1\n",
              "3  4-Jan  119.3\n",
              "4  5-Jan  180.3"
            ]
          },
          "metadata": {
            "tags": []
          },
          "execution_count": 9
        }
      ]
    },
    {
      "cell_type": "code",
      "metadata": {
        "id": "gpOTRz5t9moT",
        "colab_type": "code",
        "outputId": "70262141-3424-4bde-e7c3-bbb0c01b12f4",
        "colab": {
          "base_uri": "https://localhost:8080/",
          "height": 1000
        }
      },
      "source": [
        "data"
      ],
      "execution_count": 0,
      "outputs": [
        {
          "output_type": "execute_result",
          "data": {
            "text/html": [
              "<div>\n",
              "<style scoped>\n",
              "    .dataframe tbody tr th:only-of-type {\n",
              "        vertical-align: middle;\n",
              "    }\n",
              "\n",
              "    .dataframe tbody tr th {\n",
              "        vertical-align: top;\n",
              "    }\n",
              "\n",
              "    .dataframe thead th {\n",
              "        text-align: right;\n",
              "    }\n",
              "</style>\n",
              "<table border=\"1\" class=\"dataframe\">\n",
              "  <thead>\n",
              "    <tr style=\"text-align: right;\">\n",
              "      <th></th>\n",
              "      <th>Month</th>\n",
              "      <th>Sales</th>\n",
              "    </tr>\n",
              "  </thead>\n",
              "  <tbody>\n",
              "    <tr>\n",
              "      <th>0</th>\n",
              "      <td>1-Jan</td>\n",
              "      <td>266.0</td>\n",
              "    </tr>\n",
              "    <tr>\n",
              "      <th>1</th>\n",
              "      <td>2-Jan</td>\n",
              "      <td>145.9</td>\n",
              "    </tr>\n",
              "    <tr>\n",
              "      <th>2</th>\n",
              "      <td>3-Jan</td>\n",
              "      <td>183.1</td>\n",
              "    </tr>\n",
              "    <tr>\n",
              "      <th>3</th>\n",
              "      <td>4-Jan</td>\n",
              "      <td>119.3</td>\n",
              "    </tr>\n",
              "    <tr>\n",
              "      <th>4</th>\n",
              "      <td>5-Jan</td>\n",
              "      <td>180.3</td>\n",
              "    </tr>\n",
              "    <tr>\n",
              "      <th>5</th>\n",
              "      <td>6-Jan</td>\n",
              "      <td>168.5</td>\n",
              "    </tr>\n",
              "    <tr>\n",
              "      <th>6</th>\n",
              "      <td>7-Jan</td>\n",
              "      <td>231.8</td>\n",
              "    </tr>\n",
              "    <tr>\n",
              "      <th>7</th>\n",
              "      <td>8-Jan</td>\n",
              "      <td>224.5</td>\n",
              "    </tr>\n",
              "    <tr>\n",
              "      <th>8</th>\n",
              "      <td>9-Jan</td>\n",
              "      <td>192.8</td>\n",
              "    </tr>\n",
              "    <tr>\n",
              "      <th>9</th>\n",
              "      <td>10-Jan</td>\n",
              "      <td>122.9</td>\n",
              "    </tr>\n",
              "    <tr>\n",
              "      <th>10</th>\n",
              "      <td>11-Jan</td>\n",
              "      <td>336.5</td>\n",
              "    </tr>\n",
              "    <tr>\n",
              "      <th>11</th>\n",
              "      <td>12-Jan</td>\n",
              "      <td>185.9</td>\n",
              "    </tr>\n",
              "    <tr>\n",
              "      <th>12</th>\n",
              "      <td>1-Feb</td>\n",
              "      <td>194.3</td>\n",
              "    </tr>\n",
              "    <tr>\n",
              "      <th>13</th>\n",
              "      <td>2-Feb</td>\n",
              "      <td>149.5</td>\n",
              "    </tr>\n",
              "    <tr>\n",
              "      <th>14</th>\n",
              "      <td>3-Feb</td>\n",
              "      <td>210.1</td>\n",
              "    </tr>\n",
              "    <tr>\n",
              "      <th>15</th>\n",
              "      <td>4-Feb</td>\n",
              "      <td>273.3</td>\n",
              "    </tr>\n",
              "    <tr>\n",
              "      <th>16</th>\n",
              "      <td>5-Feb</td>\n",
              "      <td>191.4</td>\n",
              "    </tr>\n",
              "    <tr>\n",
              "      <th>17</th>\n",
              "      <td>6-Feb</td>\n",
              "      <td>287.0</td>\n",
              "    </tr>\n",
              "    <tr>\n",
              "      <th>18</th>\n",
              "      <td>7-Feb</td>\n",
              "      <td>226.0</td>\n",
              "    </tr>\n",
              "    <tr>\n",
              "      <th>19</th>\n",
              "      <td>8-Feb</td>\n",
              "      <td>303.6</td>\n",
              "    </tr>\n",
              "    <tr>\n",
              "      <th>20</th>\n",
              "      <td>9-Feb</td>\n",
              "      <td>289.9</td>\n",
              "    </tr>\n",
              "    <tr>\n",
              "      <th>21</th>\n",
              "      <td>10-Feb</td>\n",
              "      <td>421.6</td>\n",
              "    </tr>\n",
              "    <tr>\n",
              "      <th>22</th>\n",
              "      <td>11-Feb</td>\n",
              "      <td>264.5</td>\n",
              "    </tr>\n",
              "    <tr>\n",
              "      <th>23</th>\n",
              "      <td>12-Feb</td>\n",
              "      <td>342.3</td>\n",
              "    </tr>\n",
              "    <tr>\n",
              "      <th>24</th>\n",
              "      <td>1-Mar</td>\n",
              "      <td>339.7</td>\n",
              "    </tr>\n",
              "    <tr>\n",
              "      <th>25</th>\n",
              "      <td>2-Mar</td>\n",
              "      <td>440.4</td>\n",
              "    </tr>\n",
              "    <tr>\n",
              "      <th>26</th>\n",
              "      <td>3-Mar</td>\n",
              "      <td>315.9</td>\n",
              "    </tr>\n",
              "    <tr>\n",
              "      <th>27</th>\n",
              "      <td>4-Mar</td>\n",
              "      <td>439.3</td>\n",
              "    </tr>\n",
              "    <tr>\n",
              "      <th>28</th>\n",
              "      <td>5-Mar</td>\n",
              "      <td>401.3</td>\n",
              "    </tr>\n",
              "    <tr>\n",
              "      <th>29</th>\n",
              "      <td>6-Mar</td>\n",
              "      <td>437.4</td>\n",
              "    </tr>\n",
              "    <tr>\n",
              "      <th>30</th>\n",
              "      <td>7-Mar</td>\n",
              "      <td>575.5</td>\n",
              "    </tr>\n",
              "    <tr>\n",
              "      <th>31</th>\n",
              "      <td>8-Mar</td>\n",
              "      <td>407.6</td>\n",
              "    </tr>\n",
              "    <tr>\n",
              "      <th>32</th>\n",
              "      <td>9-Mar</td>\n",
              "      <td>682.0</td>\n",
              "    </tr>\n",
              "    <tr>\n",
              "      <th>33</th>\n",
              "      <td>10-Mar</td>\n",
              "      <td>475.3</td>\n",
              "    </tr>\n",
              "    <tr>\n",
              "      <th>34</th>\n",
              "      <td>11-Mar</td>\n",
              "      <td>581.3</td>\n",
              "    </tr>\n",
              "    <tr>\n",
              "      <th>35</th>\n",
              "      <td>12-Mar</td>\n",
              "      <td>646.9</td>\n",
              "    </tr>\n",
              "  </tbody>\n",
              "</table>\n",
              "</div>"
            ],
            "text/plain": [
              "     Month  Sales\n",
              "0    1-Jan  266.0\n",
              "1    2-Jan  145.9\n",
              "2    3-Jan  183.1\n",
              "3    4-Jan  119.3\n",
              "4    5-Jan  180.3\n",
              "5    6-Jan  168.5\n",
              "6    7-Jan  231.8\n",
              "7    8-Jan  224.5\n",
              "8    9-Jan  192.8\n",
              "9   10-Jan  122.9\n",
              "10  11-Jan  336.5\n",
              "11  12-Jan  185.9\n",
              "12   1-Feb  194.3\n",
              "13   2-Feb  149.5\n",
              "14   3-Feb  210.1\n",
              "15   4-Feb  273.3\n",
              "16   5-Feb  191.4\n",
              "17   6-Feb  287.0\n",
              "18   7-Feb  226.0\n",
              "19   8-Feb  303.6\n",
              "20   9-Feb  289.9\n",
              "21  10-Feb  421.6\n",
              "22  11-Feb  264.5\n",
              "23  12-Feb  342.3\n",
              "24   1-Mar  339.7\n",
              "25   2-Mar  440.4\n",
              "26   3-Mar  315.9\n",
              "27   4-Mar  439.3\n",
              "28   5-Mar  401.3\n",
              "29   6-Mar  437.4\n",
              "30   7-Mar  575.5\n",
              "31   8-Mar  407.6\n",
              "32   9-Mar  682.0\n",
              "33  10-Mar  475.3\n",
              "34  11-Mar  581.3\n",
              "35  12-Mar  646.9"
            ]
          },
          "metadata": {
            "tags": []
          },
          "execution_count": 10
        }
      ]
    },
    {
      "cell_type": "code",
      "metadata": {
        "id": "ICGHL2FQ9n_W",
        "colab_type": "code",
        "colab": {}
      },
      "source": [
        ""
      ],
      "execution_count": 0,
      "outputs": []
    }
  ]
}